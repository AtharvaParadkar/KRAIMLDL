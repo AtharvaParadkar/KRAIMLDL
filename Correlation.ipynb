{
 "cells": [
  {
   "cell_type": "code",
   "execution_count": 1,
   "id": "a0dc8233",
   "metadata": {},
   "outputs": [],
   "source": [
    "import numpy as np"
   ]
  },
  {
   "cell_type": "code",
   "execution_count": 2,
   "id": "03bc51d3",
   "metadata": {},
   "outputs": [
    {
     "data": {
      "text/plain": [
       "array([10, 11, 12, 13, 14, 15, 16, 17, 18, 19])"
      ]
     },
     "execution_count": 2,
     "metadata": {},
     "output_type": "execute_result"
    }
   ],
   "source": [
    "x = np.arange(10,20)\n",
    "x"
   ]
  },
  {
   "cell_type": "code",
   "execution_count": 3,
   "id": "766da549",
   "metadata": {},
   "outputs": [
    {
     "data": {
      "text/plain": [
       "array([ 2,  1,  4,  5,  8, 12, 18, 25, 96, 48])"
      ]
     },
     "execution_count": 3,
     "metadata": {},
     "output_type": "execute_result"
    }
   ],
   "source": [
    "y = np.array([2,1,4,5,8,12,18,25,96,48])\n",
    "y"
   ]
  },
  {
   "cell_type": "code",
   "execution_count": 4,
   "id": "195efa95",
   "metadata": {},
   "outputs": [
    {
     "data": {
      "text/plain": [
       "array([[1.        , 0.75864029],\n",
       "       [0.75864029, 1.        ]])"
      ]
     },
     "execution_count": 4,
     "metadata": {},
     "output_type": "execute_result"
    }
   ],
   "source": [
    "r = np.corrcoef(x, y)\n",
    "r"
   ]
  },
  {
   "cell_type": "code",
   "execution_count": 5,
   "id": "5beb78a8",
   "metadata": {},
   "outputs": [],
   "source": [
    "import numpy as np\n",
    "import scipy.stats"
   ]
  },
  {
   "cell_type": "code",
   "execution_count": 6,
   "id": "2359bfad",
   "metadata": {},
   "outputs": [
    {
     "data": {
      "text/plain": [
       "array([10, 11, 12, 13, 14, 15, 16, 17, 18, 19])"
      ]
     },
     "execution_count": 6,
     "metadata": {},
     "output_type": "execute_result"
    }
   ],
   "source": [
    "x = np.arange(10, 20)\n",
    "x"
   ]
  },
  {
   "cell_type": "code",
   "execution_count": 7,
   "id": "0805b775",
   "metadata": {},
   "outputs": [
    {
     "data": {
      "text/plain": [
       "array([ 2,  1,  4,  5,  8, 12, 18, 25, 96, 48])"
      ]
     },
     "execution_count": 7,
     "metadata": {},
     "output_type": "execute_result"
    }
   ],
   "source": [
    "y = np.array([2, 1, 4, 5, 8, 12, 18, 25, 96, 48])\n",
    "y"
   ]
  },
  {
   "cell_type": "code",
   "execution_count": 8,
   "id": "2ad0f490",
   "metadata": {},
   "outputs": [
    {
     "data": {
      "text/plain": [
       "(0.758640289091187, 0.010964341301680813)"
      ]
     },
     "execution_count": 8,
     "metadata": {},
     "output_type": "execute_result"
    }
   ],
   "source": [
    "scipy.stats.pearsonr(x, y)"
   ]
  },
  {
   "cell_type": "code",
   "execution_count": 9,
   "id": "4862bcc6",
   "metadata": {
    "scrolled": true
   },
   "outputs": [
    {
     "data": {
      "text/plain": [
       "SpearmanrResult(correlation=0.9757575757575757, pvalue=1.4675461874042197e-06)"
      ]
     },
     "execution_count": 9,
     "metadata": {},
     "output_type": "execute_result"
    }
   ],
   "source": [
    "scipy.stats.spearmanr(x, y)"
   ]
  },
  {
   "cell_type": "code",
   "execution_count": 10,
   "id": "4feed112",
   "metadata": {},
   "outputs": [
    {
     "data": {
      "text/plain": [
       "0.758640289091187"
      ]
     },
     "execution_count": 10,
     "metadata": {},
     "output_type": "execute_result"
    }
   ],
   "source": [
    "scipy.stats.pearsonr(x, y)[0]"
   ]
  },
  {
   "cell_type": "code",
   "execution_count": 11,
   "id": "d0c6095b",
   "metadata": {},
   "outputs": [
    {
     "data": {
      "text/plain": [
       "0.9757575757575757"
      ]
     },
     "execution_count": 11,
     "metadata": {},
     "output_type": "execute_result"
    }
   ],
   "source": [
    "scipy.stats.spearmanr(x, y)[0]"
   ]
  },
  {
   "cell_type": "code",
   "execution_count": 12,
   "id": "0d547306",
   "metadata": {},
   "outputs": [],
   "source": [
    "import pandas as pd"
   ]
  },
  {
   "cell_type": "code",
   "execution_count": 15,
   "id": "46174eb7",
   "metadata": {},
   "outputs": [],
   "source": [
    "movies = pd.read_csv(\"D:\\MCA\\KR AI ML DL\\MoviesOnStreamingPlatforms.csv\")"
   ]
  },
  {
   "cell_type": "code",
   "execution_count": 16,
   "id": "7ba282ea",
   "metadata": {},
   "outputs": [
    {
     "data": {
      "text/html": [
       "<div>\n",
       "<style scoped>\n",
       "    .dataframe tbody tr th:only-of-type {\n",
       "        vertical-align: middle;\n",
       "    }\n",
       "\n",
       "    .dataframe tbody tr th {\n",
       "        vertical-align: top;\n",
       "    }\n",
       "\n",
       "    .dataframe thead th {\n",
       "        text-align: right;\n",
       "    }\n",
       "</style>\n",
       "<table border=\"1\" class=\"dataframe\">\n",
       "  <thead>\n",
       "    <tr style=\"text-align: right;\">\n",
       "      <th></th>\n",
       "      <th>Column1</th>\n",
       "      <th>ID</th>\n",
       "      <th>Year</th>\n",
       "      <th>Netflix</th>\n",
       "      <th>Hulu</th>\n",
       "      <th>Prime Video</th>\n",
       "      <th>Disney+</th>\n",
       "      <th>Type</th>\n",
       "    </tr>\n",
       "  </thead>\n",
       "  <tbody>\n",
       "    <tr>\n",
       "      <th>Column1</th>\n",
       "      <td>1.000000</td>\n",
       "      <td>1.000000</td>\n",
       "      <td>-0.334904</td>\n",
       "      <td>-0.844152</td>\n",
       "      <td>-0.086986</td>\n",
       "      <td>0.541981</td>\n",
       "      <td>0.500118</td>\n",
       "      <td>NaN</td>\n",
       "    </tr>\n",
       "    <tr>\n",
       "      <th>ID</th>\n",
       "      <td>1.000000</td>\n",
       "      <td>1.000000</td>\n",
       "      <td>-0.334904</td>\n",
       "      <td>-0.844152</td>\n",
       "      <td>-0.086986</td>\n",
       "      <td>0.541981</td>\n",
       "      <td>0.500118</td>\n",
       "      <td>NaN</td>\n",
       "    </tr>\n",
       "    <tr>\n",
       "      <th>Year</th>\n",
       "      <td>-0.334904</td>\n",
       "      <td>-0.334904</td>\n",
       "      <td>1.000000</td>\n",
       "      <td>0.306645</td>\n",
       "      <td>0.080422</td>\n",
       "      <td>-0.243679</td>\n",
       "      <td>-0.177892</td>\n",
       "      <td>NaN</td>\n",
       "    </tr>\n",
       "    <tr>\n",
       "      <th>Netflix</th>\n",
       "      <td>-0.844152</td>\n",
       "      <td>-0.844152</td>\n",
       "      <td>0.306645</td>\n",
       "      <td>1.000000</td>\n",
       "      <td>-0.253300</td>\n",
       "      <td>-0.647814</td>\n",
       "      <td>-0.256625</td>\n",
       "      <td>NaN</td>\n",
       "    </tr>\n",
       "    <tr>\n",
       "      <th>Hulu</th>\n",
       "      <td>-0.086986</td>\n",
       "      <td>-0.086986</td>\n",
       "      <td>0.080422</td>\n",
       "      <td>-0.253300</td>\n",
       "      <td>1.000000</td>\n",
       "      <td>-0.239705</td>\n",
       "      <td>-0.108368</td>\n",
       "      <td>NaN</td>\n",
       "    </tr>\n",
       "    <tr>\n",
       "      <th>Prime Video</th>\n",
       "      <td>0.541981</td>\n",
       "      <td>0.541981</td>\n",
       "      <td>-0.243679</td>\n",
       "      <td>-0.647814</td>\n",
       "      <td>-0.239705</td>\n",
       "      <td>1.000000</td>\n",
       "      <td>-0.276499</td>\n",
       "      <td>NaN</td>\n",
       "    </tr>\n",
       "    <tr>\n",
       "      <th>Disney+</th>\n",
       "      <td>0.500118</td>\n",
       "      <td>0.500118</td>\n",
       "      <td>-0.177892</td>\n",
       "      <td>-0.256625</td>\n",
       "      <td>-0.108368</td>\n",
       "      <td>-0.276499</td>\n",
       "      <td>1.000000</td>\n",
       "      <td>NaN</td>\n",
       "    </tr>\n",
       "    <tr>\n",
       "      <th>Type</th>\n",
       "      <td>NaN</td>\n",
       "      <td>NaN</td>\n",
       "      <td>NaN</td>\n",
       "      <td>NaN</td>\n",
       "      <td>NaN</td>\n",
       "      <td>NaN</td>\n",
       "      <td>NaN</td>\n",
       "      <td>NaN</td>\n",
       "    </tr>\n",
       "  </tbody>\n",
       "</table>\n",
       "</div>"
      ],
      "text/plain": [
       "              Column1        ID      Year   Netflix      Hulu  Prime Video  \\\n",
       "Column1      1.000000  1.000000 -0.334904 -0.844152 -0.086986     0.541981   \n",
       "ID           1.000000  1.000000 -0.334904 -0.844152 -0.086986     0.541981   \n",
       "Year        -0.334904 -0.334904  1.000000  0.306645  0.080422    -0.243679   \n",
       "Netflix     -0.844152 -0.844152  0.306645  1.000000 -0.253300    -0.647814   \n",
       "Hulu        -0.086986 -0.086986  0.080422 -0.253300  1.000000    -0.239705   \n",
       "Prime Video  0.541981  0.541981 -0.243679 -0.647814 -0.239705     1.000000   \n",
       "Disney+      0.500118  0.500118 -0.177892 -0.256625 -0.108368    -0.276499   \n",
       "Type              NaN       NaN       NaN       NaN       NaN          NaN   \n",
       "\n",
       "              Disney+  Type  \n",
       "Column1      0.500118   NaN  \n",
       "ID           0.500118   NaN  \n",
       "Year        -0.177892   NaN  \n",
       "Netflix     -0.256625   NaN  \n",
       "Hulu        -0.108368   NaN  \n",
       "Prime Video -0.276499   NaN  \n",
       "Disney+      1.000000   NaN  \n",
       "Type              NaN   NaN  "
      ]
     },
     "execution_count": 16,
     "metadata": {},
     "output_type": "execute_result"
    }
   ],
   "source": [
    "movies.corr()"
   ]
  },
  {
   "cell_type": "code",
   "execution_count": 17,
   "id": "3f205ab1",
   "metadata": {},
   "outputs": [],
   "source": [
    "correlations = movies.corr()"
   ]
  },
  {
   "cell_type": "code",
   "execution_count": 18,
   "id": "0795ac2f",
   "metadata": {},
   "outputs": [
    {
     "name": "stdout",
     "output_type": "stream",
     "text": [
      "              Column1        ID      Year   Netflix      Hulu  Prime Video  \\\n",
      "Column1      1.000000  1.000000 -0.334904 -0.844152 -0.086986     0.541981   \n",
      "ID           1.000000  1.000000 -0.334904 -0.844152 -0.086986     0.541981   \n",
      "Year        -0.334904 -0.334904  1.000000  0.306645  0.080422    -0.243679   \n",
      "Netflix     -0.844152 -0.844152  0.306645  1.000000 -0.253300    -0.647814   \n",
      "Hulu        -0.086986 -0.086986  0.080422 -0.253300  1.000000    -0.239705   \n",
      "Prime Video  0.541981  0.541981 -0.243679 -0.647814 -0.239705     1.000000   \n",
      "Disney+      0.500118  0.500118 -0.177892 -0.256625 -0.108368    -0.276499   \n",
      "Type              NaN       NaN       NaN       NaN       NaN          NaN   \n",
      "\n",
      "              Disney+  Type  \n",
      "Column1      0.500118   NaN  \n",
      "ID           0.500118   NaN  \n",
      "Year        -0.177892   NaN  \n",
      "Netflix     -0.256625   NaN  \n",
      "Hulu        -0.108368   NaN  \n",
      "Prime Video -0.276499   NaN  \n",
      "Disney+      1.000000   NaN  \n",
      "Type              NaN   NaN  \n"
     ]
    }
   ],
   "source": [
    "print(correlations)"
   ]
  },
  {
   "cell_type": "code",
   "execution_count": 19,
   "id": "c72dde8b",
   "metadata": {},
   "outputs": [
    {
     "name": "stdout",
     "output_type": "stream",
     "text": [
      "Column1       -0.334904\n",
      "ID            -0.334904\n",
      "Year           1.000000\n",
      "Netflix        0.306645\n",
      "Hulu           0.080422\n",
      "Prime Video   -0.243679\n",
      "Disney+       -0.177892\n",
      "Type                NaN\n",
      "Name: Year, dtype: float64\n"
     ]
    }
   ],
   "source": [
    "print(correlations[\"Year\"])"
   ]
  },
  {
   "cell_type": "code",
   "execution_count": 20,
   "id": "5ec495f6",
   "metadata": {},
   "outputs": [],
   "source": [
    "import numpy as np"
   ]
  },
  {
   "cell_type": "code",
   "execution_count": 21,
   "id": "a1430115",
   "metadata": {},
   "outputs": [],
   "source": [
    "np.random.seed(1)"
   ]
  },
  {
   "cell_type": "code",
   "execution_count": 24,
   "id": "14482458",
   "metadata": {},
   "outputs": [],
   "source": [
    "x = np.random.randint(0, 50, 1000)"
   ]
  },
  {
   "cell_type": "code",
   "execution_count": 25,
   "id": "d669493c",
   "metadata": {},
   "outputs": [],
   "source": [
    "y = x + np.random.normal(0, 10, 1000)"
   ]
  },
  {
   "cell_type": "code",
   "execution_count": 26,
   "id": "70c729c6",
   "metadata": {},
   "outputs": [
    {
     "data": {
      "text/plain": [
       "array([[1.        , 0.81543901],\n",
       "       [0.81543901, 1.        ]])"
      ]
     },
     "execution_count": 26,
     "metadata": {},
     "output_type": "execute_result"
    }
   ],
   "source": [
    "np.corrcoef(x, y)"
   ]
  },
  {
   "cell_type": "code",
   "execution_count": 27,
   "id": "5d4c13f4",
   "metadata": {},
   "outputs": [],
   "source": [
    "%matplotlib inline"
   ]
  },
  {
   "cell_type": "code",
   "execution_count": 29,
   "id": "1a67953a",
   "metadata": {},
   "outputs": [],
   "source": [
    "import seaborn as sns\n",
    "import matplotlib.pyplot as plt"
   ]
  },
  {
   "cell_type": "code",
   "execution_count": 30,
   "id": "9fe29af8",
   "metadata": {},
   "outputs": [
    {
     "data": {
      "text/plain": [
       "<AxesSubplot:>"
      ]
     },
     "execution_count": 30,
     "metadata": {},
     "output_type": "execute_result"
    },
    {
     "data": {
      "image/png": "[encoded data removed]",
      "text/plain": [
       "<Figure size 640x480 with 2 Axes>"
      ]
     },
     "metadata": {},
     "output_type": "display_data"
    }
   ],
   "source": [
    "sns.heatmap(correlations)"
   ]
  },
  {
   "cell_type": "code",
   "execution_count": null,
   "id": "e1ae3a4c",
   "metadata": {},
   "outputs": [],
   "source": []
  }
 ],
 "metadata": {
  "kernelspec": {
   "display_name": "Python 3 (ipykernel)",
   "language": "python",
   "name": "python3"
  },
  "language_info": {
   "codemirror_mode": {
    "name": "ipython",
    "version": 3
   },
   "file_extension": ".py",
   "mimetype": "text/x-python",
   "name": "python",
   "nbconvert_exporter": "python",
   "pygments_lexer": "ipython3",
   "version": "3.10.11"
  }
 },
 "nbformat": 4,
 "nbformat_minor": 5
}
